{
 "cells": [
  {
   "cell_type": "code",
   "execution_count": 2,
   "metadata": {},
   "outputs": [
    {
     "name": "stdout",
     "output_type": "stream",
     "text": [
      "Collecting ipyplot\n",
      "  Downloading ipyplot-1.1.2-py3-none-any.whl.metadata (7.2 kB)\n",
      "Requirement already satisfied: IPython in /Users/saurabh/projects/env/lib/python3.12/site-packages (from ipyplot) (8.20.0)\n",
      "Requirement already satisfied: numpy in /Users/saurabh/projects/env/lib/python3.12/site-packages (from ipyplot) (1.26.4)\n",
      "Requirement already satisfied: pillow in /Users/saurabh/projects/env/lib/python3.12/site-packages (from ipyplot) (10.2.0)\n",
      "Collecting shortuuid (from ipyplot)\n",
      "  Downloading shortuuid-1.0.13-py3-none-any.whl.metadata (5.8 kB)\n",
      "Requirement already satisfied: decorator in /Users/saurabh/projects/env/lib/python3.12/site-packages (from IPython->ipyplot) (5.1.1)\n",
      "Requirement already satisfied: jedi>=0.16 in /Users/saurabh/projects/env/lib/python3.12/site-packages (from IPython->ipyplot) (0.18.1)\n",
      "Requirement already satisfied: matplotlib-inline in /Users/saurabh/projects/env/lib/python3.12/site-packages (from IPython->ipyplot) (0.1.6)\n",
      "Requirement already satisfied: prompt-toolkit<3.1.0,>=3.0.41 in /Users/saurabh/projects/env/lib/python3.12/site-packages (from IPython->ipyplot) (3.0.43)\n",
      "Requirement already satisfied: pygments>=2.4.0 in /Users/saurabh/projects/env/lib/python3.12/site-packages (from IPython->ipyplot) (2.15.1)\n",
      "Requirement already satisfied: stack-data in /Users/saurabh/projects/env/lib/python3.12/site-packages (from IPython->ipyplot) (0.2.0)\n",
      "Requirement already satisfied: traitlets>=5 in /Users/saurabh/projects/env/lib/python3.12/site-packages (from IPython->ipyplot) (5.7.1)\n",
      "Requirement already satisfied: pexpect>4.3 in /Users/saurabh/projects/env/lib/python3.12/site-packages (from IPython->ipyplot) (4.8.0)\n",
      "Requirement already satisfied: parso<0.9.0,>=0.8.0 in /Users/saurabh/projects/env/lib/python3.12/site-packages (from jedi>=0.16->IPython->ipyplot) (0.8.3)\n",
      "Requirement already satisfied: ptyprocess>=0.5 in /Users/saurabh/projects/env/lib/python3.12/site-packages (from pexpect>4.3->IPython->ipyplot) (0.7.0)\n",
      "Requirement already satisfied: wcwidth in /Users/saurabh/projects/env/lib/python3.12/site-packages (from prompt-toolkit<3.1.0,>=3.0.41->IPython->ipyplot) (0.2.5)\n",
      "Requirement already satisfied: executing in /Users/saurabh/projects/env/lib/python3.12/site-packages (from stack-data->IPython->ipyplot) (0.8.3)\n",
      "Requirement already satisfied: asttokens in /Users/saurabh/projects/env/lib/python3.12/site-packages (from stack-data->IPython->ipyplot) (2.0.5)\n",
      "Requirement already satisfied: pure-eval in /Users/saurabh/projects/env/lib/python3.12/site-packages (from stack-data->IPython->ipyplot) (0.2.2)\n",
      "Requirement already satisfied: six in /Users/saurabh/projects/env/lib/python3.12/site-packages (from asttokens->stack-data->IPython->ipyplot) (1.16.0)\n",
      "Downloading ipyplot-1.1.2-py3-none-any.whl (13 kB)\n",
      "Downloading shortuuid-1.0.13-py3-none-any.whl (10 kB)\n",
      "Installing collected packages: shortuuid, ipyplot\n",
      "Successfully installed ipyplot-1.1.2 shortuuid-1.0.13\n"
     ]
    }
   ],
   "source": [
    "!pip install ipyplot"
   ]
  },
  {
   "cell_type": "code",
   "execution_count": 8,
   "metadata": {},
   "outputs": [
    {
     "ename": "TypeError",
     "evalue": "Cannot handle this data type: (1, 1, 3), |O",
     "output_type": "error",
     "traceback": [
      "\u001b[0;31m---------------------------------------------------------------------------\u001b[0m",
      "\u001b[0;31mKeyError\u001b[0m                                  Traceback (most recent call last)",
      "File \u001b[0;32m~/projects/env/lib/python3.12/site-packages/PIL/Image.py:3098\u001b[0m, in \u001b[0;36mfromarray\u001b[0;34m(obj, mode)\u001b[0m\n\u001b[1;32m   3097\u001b[0m \u001b[38;5;28;01mtry\u001b[39;00m:\n\u001b[0;32m-> 3098\u001b[0m     mode, rawmode \u001b[38;5;241m=\u001b[39m _fromarray_typemap[typekey]\n\u001b[1;32m   3099\u001b[0m \u001b[38;5;28;01mexcept\u001b[39;00m \u001b[38;5;167;01mKeyError\u001b[39;00m \u001b[38;5;28;01mas\u001b[39;00m e:\n",
      "\u001b[0;31mKeyError\u001b[0m: ((1, 1, 3), '|O')",
      "\nThe above exception was the direct cause of the following exception:\n",
      "\u001b[0;31mTypeError\u001b[0m                                 Traceback (most recent call last)",
      "Cell \u001b[0;32mIn[8], line 21\u001b[0m\n\u001b[1;32m     19\u001b[0m \u001b[38;5;66;03m# add to image list\u001b[39;00m\n\u001b[1;32m     20\u001b[0m    images\u001b[38;5;241m.\u001b[39mappend(pil_image)\n\u001b[0;32m---> 21\u001b[0m ipyplot\u001b[38;5;241m.\u001b[39mplot_images(images, labels\u001b[38;5;241m=\u001b[39msteps, img_width\u001b[38;5;241m=\u001b[39m\u001b[38;5;241m120\u001b[39m)\n",
      "File \u001b[0;32m~/projects/env/lib/python3.12/site-packages/ipyplot/_plotting.py:144\u001b[0m, in \u001b[0;36mplot_images\u001b[0;34m(images, labels, custom_texts, max_images, img_width, zoom_scale, show_url, force_b64)\u001b[0m\n\u001b[1;32m    140\u001b[0m     labels \u001b[38;5;241m=\u001b[39m _np\u001b[38;5;241m.\u001b[39masarray(labels)\n\u001b[1;32m    142\u001b[0m custom_texts \u001b[38;5;241m=\u001b[39m _np\u001b[38;5;241m.\u001b[39masarray(custom_texts) \u001b[38;5;28;01mif\u001b[39;00m custom_texts \u001b[38;5;129;01mis\u001b[39;00m \u001b[38;5;129;01mnot\u001b[39;00m \u001b[38;5;28;01mNone\u001b[39;00m \u001b[38;5;28;01melse\u001b[39;00m custom_texts  \u001b[38;5;66;03m# NOQA E501\u001b[39;00m\n\u001b[0;32m--> 144\u001b[0m html \u001b[38;5;241m=\u001b[39m _create_imgs_grid(\n\u001b[1;32m    145\u001b[0m     images\u001b[38;5;241m=\u001b[39mimages,\n\u001b[1;32m    146\u001b[0m     labels\u001b[38;5;241m=\u001b[39mlabels,\n\u001b[1;32m    147\u001b[0m     custom_texts\u001b[38;5;241m=\u001b[39mcustom_texts,\n\u001b[1;32m    148\u001b[0m     max_images\u001b[38;5;241m=\u001b[39mmax_images,\n\u001b[1;32m    149\u001b[0m     img_width\u001b[38;5;241m=\u001b[39mimg_width,\n\u001b[1;32m    150\u001b[0m     zoom_scale\u001b[38;5;241m=\u001b[39mzoom_scale,\n\u001b[1;32m    151\u001b[0m     show_url\u001b[38;5;241m=\u001b[39mshow_url,\n\u001b[1;32m    152\u001b[0m     force_b64\u001b[38;5;241m=\u001b[39mforce_b64)\n\u001b[1;32m    154\u001b[0m _display_html(html)\n",
      "File \u001b[0;32m~/projects/env/lib/python3.12/site-packages/ipyplot/_html_helpers.py:395\u001b[0m, in \u001b[0;36m_create_imgs_grid\u001b[0;34m(images, labels, custom_texts, max_images, img_width, zoom_scale, show_url, force_b64, resize_image)\u001b[0m\n\u001b[1;32m    391\u001b[0m html, grid_style_uuid \u001b[38;5;241m=\u001b[39m _get_default_style(img_width, zoom_scale)\n\u001b[1;32m    393\u001b[0m html \u001b[38;5;241m+\u001b[39m\u001b[38;5;241m=\u001b[39m \u001b[38;5;124m'\u001b[39m\u001b[38;5;124m<div id=\u001b[39m\u001b[38;5;124m\"\u001b[39m\u001b[38;5;124mipyplot-imgs-container-div-\u001b[39m\u001b[38;5;132;01m%s\u001b[39;00m\u001b[38;5;124m\"\u001b[39m\u001b[38;5;124m>\u001b[39m\u001b[38;5;124m'\u001b[39m \u001b[38;5;241m%\u001b[39m grid_style_uuid\n\u001b[1;32m    394\u001b[0m html \u001b[38;5;241m+\u001b[39m\u001b[38;5;241m=\u001b[39m \u001b[38;5;124m'\u001b[39m\u001b[38;5;124m'\u001b[39m\u001b[38;5;241m.\u001b[39mjoin([\n\u001b[0;32m--> 395\u001b[0m     _create_img(\n\u001b[1;32m    396\u001b[0m         x, width\u001b[38;5;241m=\u001b[39mimg_width, label\u001b[38;5;241m=\u001b[39my,\n\u001b[1;32m    397\u001b[0m         grid_style_uuid\u001b[38;5;241m=\u001b[39mgrid_style_uuid,\n\u001b[1;32m    398\u001b[0m         custom_text\u001b[38;5;241m=\u001b[39mtext, show_url\u001b[38;5;241m=\u001b[39mshow_url,\n\u001b[1;32m    399\u001b[0m         force_b64\u001b[38;5;241m=\u001b[39mforce_b64,\n\u001b[1;32m    400\u001b[0m         resize_image\u001b[38;5;241m=\u001b[39mresize_image\n\u001b[1;32m    401\u001b[0m     )\n\u001b[1;32m    402\u001b[0m     \u001b[38;5;28;01mfor\u001b[39;00m x, y, text \u001b[38;5;129;01min\u001b[39;00m \u001b[38;5;28mzip\u001b[39m(\n\u001b[1;32m    403\u001b[0m         images[:max_images], labels[:max_images],\n\u001b[1;32m    404\u001b[0m         custom_texts[:max_images])\n\u001b[1;32m    405\u001b[0m ])\n\u001b[1;32m    406\u001b[0m html \u001b[38;5;241m+\u001b[39m\u001b[38;5;241m=\u001b[39m \u001b[38;5;124m'\u001b[39m\u001b[38;5;124m</div>\u001b[39m\u001b[38;5;124m'\u001b[39m\n\u001b[1;32m    407\u001b[0m \u001b[38;5;28;01mreturn\u001b[39;00m html\n",
      "File \u001b[0;32m~/projects/env/lib/python3.12/site-packages/ipyplot/_html_helpers.py:311\u001b[0m, in \u001b[0;36m_create_img\u001b[0;34m(image, label, width, grid_style_uuid, custom_text, show_url, force_b64, resize_image)\u001b[0m\n\u001b[1;32m    308\u001b[0m \u001b[38;5;66;03m# if image is not a string it means its either PIL.Image or np.ndarray\u001b[39;00m\n\u001b[1;32m    309\u001b[0m \u001b[38;5;66;03m# that's why it's necessary to use conversion to b64\u001b[39;00m\n\u001b[1;32m    310\u001b[0m \u001b[38;5;28;01mif\u001b[39;00m use_b64:\n\u001b[0;32m--> 311\u001b[0m     img_html \u001b[38;5;241m+\u001b[39m\u001b[38;5;241m=\u001b[39m \u001b[38;5;124m'\u001b[39m\u001b[38;5;124m<img src=\u001b[39m\u001b[38;5;124m\"\u001b[39m\u001b[38;5;124mdata:image/png;base64,\u001b[39m\u001b[38;5;132;01m%s\u001b[39;00m\u001b[38;5;124m\"\u001b[39m\u001b[38;5;124m/>\u001b[39m\u001b[38;5;124m'\u001b[39m \u001b[38;5;241m%\u001b[39m _img_to_base64(\n\u001b[1;32m    312\u001b[0m         image,\n\u001b[1;32m    313\u001b[0m         width \u001b[38;5;28;01mif\u001b[39;00m resize_image \u001b[38;5;28;01melse\u001b[39;00m \u001b[38;5;28;01mNone\u001b[39;00m)\n\u001b[1;32m    315\u001b[0m html \u001b[38;5;241m=\u001b[39m \u001b[38;5;124m\"\"\"\u001b[39m\n\u001b[1;32m    316\u001b[0m \u001b[38;5;124m<div class=\u001b[39m\u001b[38;5;124m\"\u001b[39m\u001b[38;5;124mipyplot-placeholder-div-\u001b[39m\u001b[38;5;132;01m%(0)s\u001b[39;00m\u001b[38;5;124m\"\u001b[39m\u001b[38;5;124m>\u001b[39m\n\u001b[1;32m    317\u001b[0m \u001b[38;5;124m    <div id=\u001b[39m\u001b[38;5;124m\"\u001b[39m\u001b[38;5;124mipyplot-content-div-\u001b[39m\u001b[38;5;132;01m%(0)s\u001b[39;00m\u001b[38;5;124m-\u001b[39m\u001b[38;5;132;01m%(1)s\u001b[39;00m\u001b[38;5;124m\"\u001b[39m\u001b[38;5;124m class=\u001b[39m\u001b[38;5;124m\"\u001b[39m\u001b[38;5;124mipyplot-content-div-\u001b[39m\u001b[38;5;132;01m%(0)s\u001b[39;00m\u001b[38;5;124m\"\u001b[39m\u001b[38;5;124m>\u001b[39m\n\u001b[0;32m   (...)\u001b[0m\n\u001b[1;32m    327\u001b[0m \u001b[38;5;124m</div>\u001b[39m\n\u001b[1;32m    328\u001b[0m \u001b[38;5;124m\u001b[39m\u001b[38;5;124m\"\"\"\u001b[39m \u001b[38;5;241m%\u001b[39m {\u001b[38;5;124m'\u001b[39m\u001b[38;5;124m0\u001b[39m\u001b[38;5;124m'\u001b[39m: grid_style_uuid, \u001b[38;5;124m'\u001b[39m\u001b[38;5;124m1\u001b[39m\u001b[38;5;124m'\u001b[39m: img_uuid, \u001b[38;5;124m'\u001b[39m\u001b[38;5;124m2\u001b[39m\u001b[38;5;124m'\u001b[39m: label, \u001b[38;5;124m'\u001b[39m\u001b[38;5;124m3\u001b[39m\u001b[38;5;124m'\u001b[39m: img_html}  \u001b[38;5;66;03m# NOQA E501\u001b[39;00m\n\u001b[1;32m    329\u001b[0m \u001b[38;5;28;01mreturn\u001b[39;00m html\n",
      "File \u001b[0;32m~/projects/env/lib/python3.12/site-packages/ipyplot/_img_helpers.py:84\u001b[0m, in \u001b[0;36m_img_to_base64\u001b[0;34m(image, target_width)\u001b[0m\n\u001b[1;32m     82\u001b[0m         image \u001b[38;5;241m=\u001b[39m PIL\u001b[38;5;241m.\u001b[39mImage\u001b[38;5;241m.\u001b[39mfromarray(image\u001b[38;5;241m.\u001b[39mastype(np\u001b[38;5;241m.\u001b[39muint8))\n\u001b[1;32m     83\u001b[0m     \u001b[38;5;28;01melse\u001b[39;00m:\n\u001b[0;32m---> 84\u001b[0m         image \u001b[38;5;241m=\u001b[39m PIL\u001b[38;5;241m.\u001b[39mImage\u001b[38;5;241m.\u001b[39mfromarray(image)\n\u001b[1;32m     85\u001b[0m \u001b[38;5;28;01melif\u001b[39;00m \u001b[38;5;28mtype\u001b[39m(image) \u001b[38;5;129;01mis\u001b[39;00m \u001b[38;5;28mstr\u001b[39m \u001b[38;5;129;01mor\u001b[39;00m \u001b[38;5;28mtype\u001b[39m(image) \u001b[38;5;129;01mis\u001b[39;00m str_:\n\u001b[1;32m     86\u001b[0m     image \u001b[38;5;241m=\u001b[39m PIL\u001b[38;5;241m.\u001b[39mImage\u001b[38;5;241m.\u001b[39mopen(image)\n",
      "File \u001b[0;32m~/projects/env/lib/python3.12/site-packages/PIL/Image.py:3102\u001b[0m, in \u001b[0;36mfromarray\u001b[0;34m(obj, mode)\u001b[0m\n\u001b[1;32m   3100\u001b[0m         typekey_shape, typestr \u001b[38;5;241m=\u001b[39m typekey\n\u001b[1;32m   3101\u001b[0m         msg \u001b[38;5;241m=\u001b[39m \u001b[38;5;124mf\u001b[39m\u001b[38;5;124m\"\u001b[39m\u001b[38;5;124mCannot handle this data type: \u001b[39m\u001b[38;5;132;01m{\u001b[39;00mtypekey_shape\u001b[38;5;132;01m}\u001b[39;00m\u001b[38;5;124m, \u001b[39m\u001b[38;5;132;01m{\u001b[39;00mtypestr\u001b[38;5;132;01m}\u001b[39;00m\u001b[38;5;124m\"\u001b[39m\n\u001b[0;32m-> 3102\u001b[0m         \u001b[38;5;28;01mraise\u001b[39;00m \u001b[38;5;167;01mTypeError\u001b[39;00m(msg) \u001b[38;5;28;01mfrom\u001b[39;00m \u001b[38;5;21;01me\u001b[39;00m\n\u001b[1;32m   3103\u001b[0m \u001b[38;5;28;01melse\u001b[39;00m:\n\u001b[1;32m   3104\u001b[0m     rawmode \u001b[38;5;241m=\u001b[39m mode\n",
      "\u001b[0;31mTypeError\u001b[0m: Cannot handle this data type: (1, 1, 3), |O"
     ]
    }
   ],
   "source": [
    "import numpy as np\n",
    "import matplotlib.pyplot as plt\n",
    "import ipyplot\n",
    "from PIL import Image\n",
    "# Load an image\n",
    "img_path = r\"../../images/cat.jpg\"\n",
    "image = plt.imread(img_path)\n",
    "# Parameters\n",
    "num_iterations = 16\n",
    "beta = 0.1# noise_variance\n",
    "images = []\n",
    "steps = [\"Step:\"+str(i) for i in range(num_iterations)]\n",
    "# Forward diffusion process\n",
    "for i in range(num_iterations):\n",
    "   mean = np.sqrt(1 - beta) * image\n",
    "   image = np.random.normal(mean, beta, image.shape)\n",
    "   # convert image to PIL image object\n",
    "   pil_image = Image.fromarray((image * 255).astype('uint8'), 'RGB')\n",
    "# add to image list\n",
    "   images.append(pil_image)\n",
    "ipyplot.plot_images(images, labels=steps, img_width=120)\n"
   ]
  },
  {
   "cell_type": "code",
   "execution_count": 7,
   "metadata": {},
   "outputs": [
    {
     "ename": "TypeError",
     "evalue": "Cannot handle this data type: (1, 1, 3), |O",
     "output_type": "error",
     "traceback": [
      "\u001b[0;31m---------------------------------------------------------------------------\u001b[0m",
      "\u001b[0;31mKeyError\u001b[0m                                  Traceback (most recent call last)",
      "File \u001b[0;32m~/projects/env/lib/python3.12/site-packages/PIL/Image.py:3098\u001b[0m, in \u001b[0;36mfromarray\u001b[0;34m(obj, mode)\u001b[0m\n\u001b[1;32m   3097\u001b[0m \u001b[38;5;28;01mtry\u001b[39;00m:\n\u001b[0;32m-> 3098\u001b[0m     mode, rawmode \u001b[38;5;241m=\u001b[39m _fromarray_typemap[typekey]\n\u001b[1;32m   3099\u001b[0m \u001b[38;5;28;01mexcept\u001b[39;00m \u001b[38;5;167;01mKeyError\u001b[39;00m \u001b[38;5;28;01mas\u001b[39;00m e:\n",
      "\u001b[0;31mKeyError\u001b[0m: ((1, 1, 3), '|O')",
      "\nThe above exception was the direct cause of the following exception:\n",
      "\u001b[0;31mTypeError\u001b[0m                                 Traceback (most recent call last)",
      "Cell \u001b[0;32mIn[7], line 32\u001b[0m\n\u001b[1;32m     29\u001b[0m     images\u001b[38;5;241m.\u001b[39mappend(pil_image)\n\u001b[1;32m     31\u001b[0m \u001b[38;5;66;03m# Plot images using ipyplot\u001b[39;00m\n\u001b[0;32m---> 32\u001b[0m ipyplot\u001b[38;5;241m.\u001b[39mplot_images(images, labels\u001b[38;5;241m=\u001b[39msteps, img_width\u001b[38;5;241m=\u001b[39m\u001b[38;5;241m120\u001b[39m)\n",
      "File \u001b[0;32m~/projects/env/lib/python3.12/site-packages/ipyplot/_plotting.py:144\u001b[0m, in \u001b[0;36mplot_images\u001b[0;34m(images, labels, custom_texts, max_images, img_width, zoom_scale, show_url, force_b64)\u001b[0m\n\u001b[1;32m    140\u001b[0m     labels \u001b[38;5;241m=\u001b[39m _np\u001b[38;5;241m.\u001b[39masarray(labels)\n\u001b[1;32m    142\u001b[0m custom_texts \u001b[38;5;241m=\u001b[39m _np\u001b[38;5;241m.\u001b[39masarray(custom_texts) \u001b[38;5;28;01mif\u001b[39;00m custom_texts \u001b[38;5;129;01mis\u001b[39;00m \u001b[38;5;129;01mnot\u001b[39;00m \u001b[38;5;28;01mNone\u001b[39;00m \u001b[38;5;28;01melse\u001b[39;00m custom_texts  \u001b[38;5;66;03m# NOQA E501\u001b[39;00m\n\u001b[0;32m--> 144\u001b[0m html \u001b[38;5;241m=\u001b[39m _create_imgs_grid(\n\u001b[1;32m    145\u001b[0m     images\u001b[38;5;241m=\u001b[39mimages,\n\u001b[1;32m    146\u001b[0m     labels\u001b[38;5;241m=\u001b[39mlabels,\n\u001b[1;32m    147\u001b[0m     custom_texts\u001b[38;5;241m=\u001b[39mcustom_texts,\n\u001b[1;32m    148\u001b[0m     max_images\u001b[38;5;241m=\u001b[39mmax_images,\n\u001b[1;32m    149\u001b[0m     img_width\u001b[38;5;241m=\u001b[39mimg_width,\n\u001b[1;32m    150\u001b[0m     zoom_scale\u001b[38;5;241m=\u001b[39mzoom_scale,\n\u001b[1;32m    151\u001b[0m     show_url\u001b[38;5;241m=\u001b[39mshow_url,\n\u001b[1;32m    152\u001b[0m     force_b64\u001b[38;5;241m=\u001b[39mforce_b64)\n\u001b[1;32m    154\u001b[0m _display_html(html)\n",
      "File \u001b[0;32m~/projects/env/lib/python3.12/site-packages/ipyplot/_html_helpers.py:395\u001b[0m, in \u001b[0;36m_create_imgs_grid\u001b[0;34m(images, labels, custom_texts, max_images, img_width, zoom_scale, show_url, force_b64, resize_image)\u001b[0m\n\u001b[1;32m    391\u001b[0m html, grid_style_uuid \u001b[38;5;241m=\u001b[39m _get_default_style(img_width, zoom_scale)\n\u001b[1;32m    393\u001b[0m html \u001b[38;5;241m+\u001b[39m\u001b[38;5;241m=\u001b[39m \u001b[38;5;124m'\u001b[39m\u001b[38;5;124m<div id=\u001b[39m\u001b[38;5;124m\"\u001b[39m\u001b[38;5;124mipyplot-imgs-container-div-\u001b[39m\u001b[38;5;132;01m%s\u001b[39;00m\u001b[38;5;124m\"\u001b[39m\u001b[38;5;124m>\u001b[39m\u001b[38;5;124m'\u001b[39m \u001b[38;5;241m%\u001b[39m grid_style_uuid\n\u001b[1;32m    394\u001b[0m html \u001b[38;5;241m+\u001b[39m\u001b[38;5;241m=\u001b[39m \u001b[38;5;124m'\u001b[39m\u001b[38;5;124m'\u001b[39m\u001b[38;5;241m.\u001b[39mjoin([\n\u001b[0;32m--> 395\u001b[0m     _create_img(\n\u001b[1;32m    396\u001b[0m         x, width\u001b[38;5;241m=\u001b[39mimg_width, label\u001b[38;5;241m=\u001b[39my,\n\u001b[1;32m    397\u001b[0m         grid_style_uuid\u001b[38;5;241m=\u001b[39mgrid_style_uuid,\n\u001b[1;32m    398\u001b[0m         custom_text\u001b[38;5;241m=\u001b[39mtext, show_url\u001b[38;5;241m=\u001b[39mshow_url,\n\u001b[1;32m    399\u001b[0m         force_b64\u001b[38;5;241m=\u001b[39mforce_b64,\n\u001b[1;32m    400\u001b[0m         resize_image\u001b[38;5;241m=\u001b[39mresize_image\n\u001b[1;32m    401\u001b[0m     )\n\u001b[1;32m    402\u001b[0m     \u001b[38;5;28;01mfor\u001b[39;00m x, y, text \u001b[38;5;129;01min\u001b[39;00m \u001b[38;5;28mzip\u001b[39m(\n\u001b[1;32m    403\u001b[0m         images[:max_images], labels[:max_images],\n\u001b[1;32m    404\u001b[0m         custom_texts[:max_images])\n\u001b[1;32m    405\u001b[0m ])\n\u001b[1;32m    406\u001b[0m html \u001b[38;5;241m+\u001b[39m\u001b[38;5;241m=\u001b[39m \u001b[38;5;124m'\u001b[39m\u001b[38;5;124m</div>\u001b[39m\u001b[38;5;124m'\u001b[39m\n\u001b[1;32m    407\u001b[0m \u001b[38;5;28;01mreturn\u001b[39;00m html\n",
      "File \u001b[0;32m~/projects/env/lib/python3.12/site-packages/ipyplot/_html_helpers.py:311\u001b[0m, in \u001b[0;36m_create_img\u001b[0;34m(image, label, width, grid_style_uuid, custom_text, show_url, force_b64, resize_image)\u001b[0m\n\u001b[1;32m    308\u001b[0m \u001b[38;5;66;03m# if image is not a string it means its either PIL.Image or np.ndarray\u001b[39;00m\n\u001b[1;32m    309\u001b[0m \u001b[38;5;66;03m# that's why it's necessary to use conversion to b64\u001b[39;00m\n\u001b[1;32m    310\u001b[0m \u001b[38;5;28;01mif\u001b[39;00m use_b64:\n\u001b[0;32m--> 311\u001b[0m     img_html \u001b[38;5;241m+\u001b[39m\u001b[38;5;241m=\u001b[39m \u001b[38;5;124m'\u001b[39m\u001b[38;5;124m<img src=\u001b[39m\u001b[38;5;124m\"\u001b[39m\u001b[38;5;124mdata:image/png;base64,\u001b[39m\u001b[38;5;132;01m%s\u001b[39;00m\u001b[38;5;124m\"\u001b[39m\u001b[38;5;124m/>\u001b[39m\u001b[38;5;124m'\u001b[39m \u001b[38;5;241m%\u001b[39m _img_to_base64(\n\u001b[1;32m    312\u001b[0m         image,\n\u001b[1;32m    313\u001b[0m         width \u001b[38;5;28;01mif\u001b[39;00m resize_image \u001b[38;5;28;01melse\u001b[39;00m \u001b[38;5;28;01mNone\u001b[39;00m)\n\u001b[1;32m    315\u001b[0m html \u001b[38;5;241m=\u001b[39m \u001b[38;5;124m\"\"\"\u001b[39m\n\u001b[1;32m    316\u001b[0m \u001b[38;5;124m<div class=\u001b[39m\u001b[38;5;124m\"\u001b[39m\u001b[38;5;124mipyplot-placeholder-div-\u001b[39m\u001b[38;5;132;01m%(0)s\u001b[39;00m\u001b[38;5;124m\"\u001b[39m\u001b[38;5;124m>\u001b[39m\n\u001b[1;32m    317\u001b[0m \u001b[38;5;124m    <div id=\u001b[39m\u001b[38;5;124m\"\u001b[39m\u001b[38;5;124mipyplot-content-div-\u001b[39m\u001b[38;5;132;01m%(0)s\u001b[39;00m\u001b[38;5;124m-\u001b[39m\u001b[38;5;132;01m%(1)s\u001b[39;00m\u001b[38;5;124m\"\u001b[39m\u001b[38;5;124m class=\u001b[39m\u001b[38;5;124m\"\u001b[39m\u001b[38;5;124mipyplot-content-div-\u001b[39m\u001b[38;5;132;01m%(0)s\u001b[39;00m\u001b[38;5;124m\"\u001b[39m\u001b[38;5;124m>\u001b[39m\n\u001b[0;32m   (...)\u001b[0m\n\u001b[1;32m    327\u001b[0m \u001b[38;5;124m</div>\u001b[39m\n\u001b[1;32m    328\u001b[0m \u001b[38;5;124m\u001b[39m\u001b[38;5;124m\"\"\"\u001b[39m \u001b[38;5;241m%\u001b[39m {\u001b[38;5;124m'\u001b[39m\u001b[38;5;124m0\u001b[39m\u001b[38;5;124m'\u001b[39m: grid_style_uuid, \u001b[38;5;124m'\u001b[39m\u001b[38;5;124m1\u001b[39m\u001b[38;5;124m'\u001b[39m: img_uuid, \u001b[38;5;124m'\u001b[39m\u001b[38;5;124m2\u001b[39m\u001b[38;5;124m'\u001b[39m: label, \u001b[38;5;124m'\u001b[39m\u001b[38;5;124m3\u001b[39m\u001b[38;5;124m'\u001b[39m: img_html}  \u001b[38;5;66;03m# NOQA E501\u001b[39;00m\n\u001b[1;32m    329\u001b[0m \u001b[38;5;28;01mreturn\u001b[39;00m html\n",
      "File \u001b[0;32m~/projects/env/lib/python3.12/site-packages/ipyplot/_img_helpers.py:84\u001b[0m, in \u001b[0;36m_img_to_base64\u001b[0;34m(image, target_width)\u001b[0m\n\u001b[1;32m     82\u001b[0m         image \u001b[38;5;241m=\u001b[39m PIL\u001b[38;5;241m.\u001b[39mImage\u001b[38;5;241m.\u001b[39mfromarray(image\u001b[38;5;241m.\u001b[39mastype(np\u001b[38;5;241m.\u001b[39muint8))\n\u001b[1;32m     83\u001b[0m     \u001b[38;5;28;01melse\u001b[39;00m:\n\u001b[0;32m---> 84\u001b[0m         image \u001b[38;5;241m=\u001b[39m PIL\u001b[38;5;241m.\u001b[39mImage\u001b[38;5;241m.\u001b[39mfromarray(image)\n\u001b[1;32m     85\u001b[0m \u001b[38;5;28;01melif\u001b[39;00m \u001b[38;5;28mtype\u001b[39m(image) \u001b[38;5;129;01mis\u001b[39;00m \u001b[38;5;28mstr\u001b[39m \u001b[38;5;129;01mor\u001b[39;00m \u001b[38;5;28mtype\u001b[39m(image) \u001b[38;5;129;01mis\u001b[39;00m str_:\n\u001b[1;32m     86\u001b[0m     image \u001b[38;5;241m=\u001b[39m PIL\u001b[38;5;241m.\u001b[39mImage\u001b[38;5;241m.\u001b[39mopen(image)\n",
      "File \u001b[0;32m~/projects/env/lib/python3.12/site-packages/PIL/Image.py:3102\u001b[0m, in \u001b[0;36mfromarray\u001b[0;34m(obj, mode)\u001b[0m\n\u001b[1;32m   3100\u001b[0m         typekey_shape, typestr \u001b[38;5;241m=\u001b[39m typekey\n\u001b[1;32m   3101\u001b[0m         msg \u001b[38;5;241m=\u001b[39m \u001b[38;5;124mf\u001b[39m\u001b[38;5;124m\"\u001b[39m\u001b[38;5;124mCannot handle this data type: \u001b[39m\u001b[38;5;132;01m{\u001b[39;00mtypekey_shape\u001b[38;5;132;01m}\u001b[39;00m\u001b[38;5;124m, \u001b[39m\u001b[38;5;132;01m{\u001b[39;00mtypestr\u001b[38;5;132;01m}\u001b[39;00m\u001b[38;5;124m\"\u001b[39m\n\u001b[0;32m-> 3102\u001b[0m         \u001b[38;5;28;01mraise\u001b[39;00m \u001b[38;5;167;01mTypeError\u001b[39;00m(msg) \u001b[38;5;28;01mfrom\u001b[39;00m \u001b[38;5;21;01me\u001b[39;00m\n\u001b[1;32m   3103\u001b[0m \u001b[38;5;28;01melse\u001b[39;00m:\n\u001b[1;32m   3104\u001b[0m     rawmode \u001b[38;5;241m=\u001b[39m mode\n",
      "\u001b[0;31mTypeError\u001b[0m: Cannot handle this data type: (1, 1, 3), |O"
     ]
    }
   ],
   "source": [
    "import numpy as np\n",
    "import matplotlib.pyplot as plt\n",
    "import ipyplot\n",
    "from PIL import Image\n",
    "\n",
    "# Load an image\n",
    "img_path = \"../../images/cat.jpg\"\n",
    "image = plt.imread(img_path)\n",
    "\n",
    "# Normalize image to range [0, 1] if not already\n",
    "if image.max() > 1.0:\n",
    "    image = image / 255.0\n",
    "\n",
    "# Parameters\n",
    "num_iterations = 16\n",
    "beta = 0.1  # noise_variance\n",
    "images = []\n",
    "steps = [\"Step:\" + str(i) for i in range(num_iterations)]\n",
    "\n",
    "# Forward diffusion process\n",
    "for i in range(num_iterations):\n",
    "    mean = np.sqrt(1 - beta) * image\n",
    "    image = np.random.normal(mean, beta, image.shape)\n",
    "    # Clip values to maintain valid range [0, 1]\n",
    "    image = np.clip(image, 0, 1)\n",
    "    # Convert image to PIL image object\n",
    "    pil_image = Image.fromarray((image * 255).astype('uint8'), 'RGB')\n",
    "    # Add to image list\n",
    "    images.append(pil_image)\n",
    "\n",
    "# Plot images using ipyplot\n",
    "ipyplot.plot_images(images, labels=steps, img_width=120)\n"
   ]
  },
  {
   "cell_type": "code",
   "execution_count": null,
   "metadata": {},
   "outputs": [],
   "source": []
  }
 ],
 "metadata": {
  "kernelspec": {
   "display_name": "Python 3",
   "language": "python",
   "name": "python3"
  },
  "language_info": {
   "codemirror_mode": {
    "name": "ipython",
    "version": 3
   },
   "file_extension": ".py",
   "mimetype": "text/x-python",
   "name": "python",
   "nbconvert_exporter": "python",
   "pygments_lexer": "ipython3",
   "version": "3.12.2"
  }
 },
 "nbformat": 4,
 "nbformat_minor": 2
}
