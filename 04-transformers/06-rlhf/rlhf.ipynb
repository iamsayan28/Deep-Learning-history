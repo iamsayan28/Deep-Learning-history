{
 "cells": [
  {
   "cell_type": "markdown",
   "metadata": {},
   "source": [
    "### let's understand rlhf (reinforcement learning from human feedback)\n",
    "\n",
    "> **why do we need rlhf?**\n",
    "- large language models trained only on text prediction don't naturally align with human values and preferences.\n",
    "- models may generate harmful, misleading, or unhelpful content if optimized solely to predict the next token.\n",
    "- we need a way to teach models to produce outputs that humans actually prefer and find helpful.\n",
    "- supervised fine-tuning alone can't capture nuanced human preferences about quality, safety, and helpfulness.\n",
    "\n",
    "> **what is rlhf?**\n",
    "- rlhf stands for reinforcement learning from human feedback, a technique for aligning ai systems with human preferences.\n",
    "- it teaches models to generate content humans prefer by using human judgments as rewards.\n",
    "- human evaluators compare different model outputs, ranking them from most to least preferred.\n",
    "- these preferences are used to train a reward model that scores outputs, which then guides the language model's learning.\n",
    "\n",
    "> **how rlhf works?**\n",
    "- rlhf typically follows a three-stage process:\n",
    "- 1. supervised fine-tuning: first train the model on high-quality examples to get a decent starting point.\n",
    "- 2. reward model training: collect human preferences between outputs and train a model to predict which responses humans prefer.\n",
    "- 3. reinforcement learning: optimize the language model using the reward model's scores as feedback.\n",
    "\n",
    "> **the key components**\n",
    "- the policy model: the language model being trained to generate preferred outputs\n",
    "- the reward model: evaluates outputs based on human preferences\n",
    "- ppo (proximal policy optimization): the reinforcement learning algorithm typically used\n",
    "- kl penalty: ensures the model doesn't deviate too far from its original capabilities\n",
    "\n",
    "> **practical implementation**\n",
    "- human evaluators compare pairs of model responses and select which one better satisfies criteria like helpfulness.\n",
    "- these preferences create a dataset for training the reward model.\n",
    "- during reinforcement learning, the model generates many variations of responses to prompts.\n",
    "- these responses are scored by the reward model, and the policy is updated to maximize these scores.\n",
    "- a kl divergence penalty prevents the model from changing too drastically and forgetting its capabilities.\n",
    "\n",
    "> **benefits of rlhf**\n",
    "- models that produce more helpful, harmless, and honest outputs\n",
    "- reduced likelihood of generating harmful content\n",
    "- better alignment with complex human values that are difficult to specify explicitly\n",
    "- improved ability to follow instructions and understand user intent\n",
    "- more natural, helpful interactions that better meet human expectations"
   ]
  }
 ],
 "metadata": {
  "language_info": {
   "name": "python"
  }
 },
 "nbformat": 4,
 "nbformat_minor": 2
}
