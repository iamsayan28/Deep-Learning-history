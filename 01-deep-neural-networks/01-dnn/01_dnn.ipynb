{
 "cells": [
  {
   "cell_type": "markdown",
   "metadata": {},
   "source": [
    "# Start Of The Deep Learning ERA - BackProp \n",
    "\n",
    "Implementation of an `autograd engine` to understand `Backpropagation` \n",
    "\n",
    "The engine performs `Backpropagation`. It calculates the gradient of the weights with respect to the loss function.\n",
    "\n",
    "Then, it uses the gradient algorithm to `adjust the values of the weights` relative to the loss function so that the `loss moves towards zero.`"
   ]
  },
  {
   "cell_type": "markdown",
   "metadata": {},
   "source": [
    "## Some Stuff You Should Know Before Building Autograd Engine : "
   ]
  },
  {
   "cell_type": "markdown",
   "metadata": {},
   "source": [
    "### How Backpropagation Is Get Used In Training Deep Neural Networks ?\n",
    "\n",
    "#### `STEPS: `\n",
    "\n",
    "`Initialize Param:`  Start by initializing the neural network with random weights.(why cause its just help)\n",
    "\n",
    "`Forward Pass:` Pass the input data through the network to get the predicted output.\n",
    "\n",
    "`Compute Loss:` Calculate the loss by comparing the predicted output with the actual target values.\n",
    "\n",
    "`Backprop:` Perform backpropagation to calculate the gradient of the loss with respect to each weight in the network.\n",
    "\n",
    "`Update Weights:` Use the ``gradient algorithm`` to adjust the weights based on the calculated gradients, in order to minimize the loss.\n",
    "\n",
    "`Repeat:` Repeat steps 2-5 for a set number of epochs or until the loss goes close to zero.\n",
    "\n",
    " \n",
    "\n",
    "\n"
   ]
  },
  {
   "cell_type": "markdown",
   "metadata": {},
   "source": [
    "### Gradient Descent The MC Of The Backpropogation:\n",
    "\n",
    "![img](../../images/for_revered_guest.png)\n",
    "\n",
    "\n"
   ]
  },
  {
   "cell_type": "markdown",
   "metadata": {},
   "source": [
    "#### Let's Learn How It Works Internally `(All The Math):`\n",
    "\n",
    "`J(θ1,θ2) -> J(w,b)`\n",
    "\n",
    "$$\n",
    "J(w, b) \\text{ is the cost function.}\n",
    "$$\n",
    "\n",
    "$$\n",
    "w_i = w_i - \\alpha \\frac{\\partial J}{\\partial w_i}\n",
    "$$\n",
    "\n",
    "$$\n",
    "b = b - \\alpha \\frac{\\partial J}{\\partial b}\n",
    "$$\n",
    "\n",
    "forward pass `->` calculate loss `->` backprop `->` **update the weights** (by using above equations)\n",
    "\n",
    "The `line` on the graph depicts the `gradient descent algorithm`, showing its process of updating parameters to minimize the loss towards zero.\n",
    " \n",
    "The provided `formulas does all the weights updation`."
   ]
  },
  {
   "cell_type": "markdown",
   "metadata": {},
   "source": [
    "### Read More, Learn More and Build More:\n",
    "\n",
    "#### Books -> \n",
    "\n",
    "1. [Machine Learning with PyTorch and Scikit-Learn by Sebastian Raschka](https://www.amazon.in/Machine-Learning-PyTorch-Scikit-Learn-learning-ebook/dp/B09NW48MR1)\n",
    "\n",
    "2. [Understanding Deep Learning](https://udlbook.github.io/udlbook/)\n",
    "\n",
    "\n",
    "#### Video Tutorials ->\n",
    "\n",
    "1. [Micrograd by Andrej Karpathy](https://www.youtube.com/watch?v=VMj-3S1tku0)\n",
    "2. [What is backpropagation really doing? by 3Blue1Brown](https://www.youtube.com/@3blue1brown)\n"
   ]
  },
  {
   "cell_type": "markdown",
   "metadata": {},
   "source": [
    "## Now lets Build the Micrograd by Andrej Karpathy (with more functionality): "
   ]
  },
  {
   "cell_type": "code",
   "execution_count": 21,
   "metadata": {},
   "outputs": [],
   "source": [
    "class Tensor:\n",
    "\n",
    "    def __init__ (self, data, _op='', _children=(), label=''):\n",
    "\n",
    "        self.data = data # data \n",
    "        self._op = _op #store the operation (like +,- etc)\n",
    "        self._prev = set(_children) # where this came from \n",
    "        self.grad = 0.0 # default value \n",
    "        self._backward = lambda : None # defalut not activated \n",
    "        self.label = label # label for the each data point \n",
    "\n",
    "    def __add__(self, other):\n",
    "\n",
    "        out = Tensor(self.data + other.data,(self,other),'+') # the other access the other data other than \n",
    "                                                              # the self.data = a , other.data = b \n",
    "\n",
    "        return out \n",
    "    \n",
    "    def __mul__(self, other):\n",
    "\n",
    "        other = other if isinstance(other, Tensor) else Tensor(other) # if the other object is not tensor then it converts the scalar to tensor\n",
    "\n",
    "        out = Tensor(self.data * other.data,(self,other),'*')\n",
    "\n",
    "        return out \n",
    "    \n",
    "    def __rmul__(self,other): # arranging the a * b == b * a \n",
    "\n",
    "        return  self * other \n",
    "    \n",
    "    \n",
    "    def __repr__(self):\n",
    "\n",
    "        return f\"Tensor(data={self.data})\"\n",
    "\n",
    "\n"
   ]
  },
  {
   "cell_type": "code",
   "execution_count": 22,
   "metadata": {},
   "outputs": [
    {
     "data": {
      "text/plain": [
       "Tensor(data=200.0)"
      ]
     },
     "execution_count": 22,
     "metadata": {},
     "output_type": "execute_result"
    }
   ],
   "source": [
    "a = Tensor(20)\n",
    "b = Tensor(30)\n",
    "c = 10.0\n",
    "a * c"
   ]
  },
  {
   "cell_type": "code",
   "execution_count": null,
   "metadata": {},
   "outputs": [],
   "source": []
  },
  {
   "cell_type": "code",
   "execution_count": null,
   "metadata": {},
   "outputs": [],
   "source": []
  },
  {
   "cell_type": "code",
   "execution_count": null,
   "metadata": {},
   "outputs": [],
   "source": []
  }
 ],
 "metadata": {
  "kernelspec": {
   "display_name": ".venv",
   "language": "python",
   "name": "python3"
  },
  "language_info": {
   "codemirror_mode": {
    "name": "ipython",
    "version": 3
   },
   "file_extension": ".py",
   "mimetype": "text/x-python",
   "name": "python",
   "nbconvert_exporter": "python",
   "pygments_lexer": "ipython3",
   "version": "3.9.6"
  }
 },
 "nbformat": 4,
 "nbformat_minor": 2
}
