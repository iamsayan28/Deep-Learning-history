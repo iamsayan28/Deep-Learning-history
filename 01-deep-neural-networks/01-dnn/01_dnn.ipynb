{
 "cells": [
  {
   "cell_type": "markdown",
   "metadata": {},
   "source": [
    "# Start Of The Deep Learning ERA - BackProp \n",
    "\n",
    "Implementation of an `autograd engine` to understand `Backpropagation` \n",
    "\n",
    "The engine performs `Backpropagation`. It calculates the gradient of the weights with respect to the loss function.\n",
    "\n",
    "Then, it uses the gradient algorithm to `adjust the values of the weights` relative to the loss function so that the `loss moves towards zero.`"
   ]
  },
  {
   "cell_type": "markdown",
   "metadata": {},
   "source": [
    "#"
   ]
  },
  {
   "cell_type": "markdown",
   "metadata": {},
   "source": [
    "## How Backpropagation Is Get Used In Training Deep Neural Networks. \n",
    "\n",
    "### `STEPS: `\n",
    "\n",
    "`Initialize the Network:`  Start by initializing the neural network with random weights.(why cause its just help)\n",
    "\n",
    "`Forward Pass:` Pass the input data through the network to get the predicted output (also known as FeedForward Pass).\n",
    "\n",
    "`Compute Loss:` Calculate the loss by comparing the predicted output with the actual target values.\n",
    "\n",
    "`Backpropagation:` Perform backpropagation to calculate the gradient of the loss with respect to each weight in the network.\n",
    "\n",
    "`Update Weights:` Use the ``gradient algorithm`` to adjust the weights based on the calculated gradients, in order to minimize the loss.\n",
    "\n",
    "`Repeat:` Repeat steps 2-5 for a set number of epochs or until the loss goes close to zero.\n",
    "\n",
    " \n",
    "\n",
    "\n"
   ]
  },
  {
   "cell_type": "markdown",
   "metadata": {},
   "source": [
    "## Gradient Descent The Center Of The Backpropogation \n",
    "\n",
    "![img](../../images/for_revered_guest.png)"
   ]
  },
  {
   "cell_type": "markdown",
   "metadata": {},
   "source": []
  }
 ],
 "metadata": {
  "kernelspec": {
   "display_name": ".venv",
   "language": "python",
   "name": "python3"
  },
  "language_info": {
   "codemirror_mode": {
    "name": "ipython",
    "version": 3
   },
   "file_extension": ".py",
   "mimetype": "text/x-python",
   "name": "python",
   "nbconvert_exporter": "python",
   "pygments_lexer": "ipython3",
   "version": "3.9.6"
  }
 },
 "nbformat": 4,
 "nbformat_minor": 2
}
