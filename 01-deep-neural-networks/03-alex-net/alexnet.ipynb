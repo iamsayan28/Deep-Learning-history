{
 "cells": [
  {
   "cell_type": "markdown",
   "metadata": {},
   "source": [
    "## Before AlexNet: The Pre-Deep Neural Network ERA\n",
    "\n",
    "---\n",
    "\n",
    "- Researchers used to trained machine learning models on CPUs.\n",
    "\n",
    "- CPUs had limited capacity so were not able to train the large models.\n",
    "- Training with large datasets was challenging.\n",
    "- LeNet was one of the first models trained on medium-sized datasets, but not truly large ones.\n",
    "- Hardware limitations were a major factor in using small datasets with fewer parameters:\n",
    "  - NVIDIA's GeForce 256 from 1999 could process at most 480 million floating-point operations.\n",
    "  \n",
    "  - There were no meaningful programming frameworks like CUDA to operate these accelerators.\n",
    "  - In contrast, today's accelerators can perform over 1000 TFLOPs per device.\n",
    "- Activation functions were not as effective.\n",
    "- Moreover, datasets were still relatively small: OCR on 60,000 low-resolution 28 X 28 pixel images was considered a highly challenging task.\n",
    "---\n",
    "## ImageNet \n",
    "\n",
    "-  ImageNet was released in 2009, the dataset comprised 12 million images across 22,000 categories.\n",
    "\n",
    "-------\n",
    "\n",
    "![imagnet](../../images/imagent.webp)\n",
    "\n",
    "-------\n",
    "\n",
    "\n",
    "- The team which created the ImageNet Datasets started organising the ImageNet Large Scale Visual Recognition Challenge (ILSVRC).\n",
    "\n",
    "- The team with lowest error rate will win.\n",
    "- The ImageNet Challenge becomes popular among the reasechers and become the standard to evaluate the performance of the vision models.\n",
    "\n",
    "---"
   ]
  },
  {
   "cell_type": "markdown",
   "metadata": {},
   "source": [
    "# AlexNet: The Beginning of the Deep Neural Network ERA\n",
    "\n",
    "---\n",
    "\n",
    "- AlexNet had 60 million parameters.\n",
    "\n",
    "- Training on CPUs was impractical due to the large number of parameters.\n",
    "- A major breakthrough occurred when Alex Krizhevsky and Ilya Sutskever implemented a deep CNN that could run on GPUs.\n",
    "- They realized that the computational bottlenecks in CNNs, such as convolutions and matrix multiplications, could be parallelized in hardware.\n",
    "- Using two NVIDIA GTX 580s with 3GB of memory, each capable of 1.5 TFLOPs, they implemented fast convolutions. Training one model on a single GPU was not possible at the time.\n",
    "- The two halves of the network would communicate at specific layers to ensure they were not training two separate models.\n",
    "- AlexNet was released in 2012 and won the ImageNet competition by a large margin in error rate.\n",
    "- The authors introduced numerous methods to improve the performance of AlexNet.\n",
    "- This paper completely changed the AI field.\n",
    "\n",
    "---\n",
    "- ![imgnet](../../images/imagnet-win.webp) \n",
    "----\n",
    "## Architecture\n",
    "\n",
    "**The network consists of 8 learned layers:**\n",
    "- 5 convolutional layers\n",
    "- 3 fully-connected layers\n",
    "---\n",
    "![arc](../../images/alexnet-arc.webp)\n",
    "\n",
    "---\n",
    "### ReLU Nonlinearity\n",
    "\n",
    "- Used f(x) = max(0, x) as the activation function.\n",
    "\n",
    "- Trains several times faster than tanh units.\n",
    "- Does not require input normalization to prevent saturation.\n",
    "---\n",
    "- ![relu](../../images/relu.webp)\n",
    "\n",
    "\n",
    "### Local Response Normalization\n",
    "\n",
    "- Applied after the ReLU activation in certain layers (specifically after the first and second convolutional layers in AlexNet).\n",
    "\n",
    "- By normalizing the responses, it prevents a single feature from dominating.\n",
    "\n",
    "\n",
    "---\n",
    "\n",
    "### Overlapping Pooling\n",
    "\n",
    "- Pooling layers summarize outputs of neighboring groups of neurons\n",
    "\n",
    "- Use overlapping pooling: z > s, where z is the filter size and s is the stride\n",
    "- Reduces top-1 and top-5 error rates rates by 0.4% and 0.3%. \n",
    "---\n",
    "- ![overlapping](../../images/overlapping.webp)\n",
    "\n",
    "---\n",
    "\n",
    "## Reducing Overfitting\n",
    "\n",
    "### Data Augmentation\n",
    "\n",
    "Two forms of data augmentation were used:\n",
    "\n",
    "1. Image translations and horizontal reflections\n",
    "   - Extract random 224x224 patches (and their horizontal reflections) from 256x256 images\n",
    "   - Increases training set by a factor of 2048\n",
    "\n",
    "2. Altering RGB channel intensities\n",
    "   - Performs PCA on RGB pixel values in training set\n",
    "   - Adds multiples of principal components to each training image\n",
    "\n",
    "### Dropout\n",
    "\n",
    "- Randomly drops out neurons during training (probability 0.5)\n",
    "\n",
    "- Reduces complex co-adaptations of neurons\n",
    "- Forces the network to learn more robust features\n",
    "- Used in the first two fully-connected layers\n",
    "---\n",
    "- ![dorpout](../../images/dropout2.svg)\n",
    "\n",
    "--- \n",
    "\n",
    "## GPU Utilization \n",
    "\n",
    "- The network was trained using two NVIDIA GTX 580 GPUs\n",
    "\n",
    "- Each GPU responsible for roughly half of the neurons/kernels\n",
    "- One GPU handles top half of kernels/neurons and  Other GPU handles bottom half, Reduces training time significantly.\n",
    "\n",
    "## Training \n",
    "\n",
    "- Stochastic gradient descent with batch size of 128\n",
    "\n",
    "- Momentum of 0.9 and weight decay of 0.0005\n",
    "- Learning rate initialized at 0.01, reduced by factor of 10 when validation error rate stopped improving\n",
    "- Trained for approximately 90 epochs through the training set of 1.2 million images and 1000 classes\n",
    "\n",
    "---\n",
    "\n",
    "## Read more, Learn More and Build more\n",
    "\n",
    "#### Reding List :\n",
    "\n",
    "1. ImageNet Classification with Deep Convolutional Neural Networks [Link](https://proceedings.neurips.cc/paper_files/paper/2012/file/c399862d3b9d6b76c8436e924a68c45b-Paper.pdf)\n",
    "\n",
    "2. AlexNet and ImageNet: The Birth of Deep Learning [Link](https://www.pinecone.io/learn/series/image-search/imagenet/)\n",
    "\n",
    "3. D2L book [Link](https://d2l.ai/chapter_convolutional-modern/alexnet.html)\n",
    "\n",
    "#### Videos :\n",
    "\n",
    "1. AlexNet and ImageNet: The Birth of Deep Learning [Link](https://youtu.be/c_u4AHNjOpk?si=htGGLTCF2_ZC3ajO)\n"
   ]
  },
  {
   "cell_type": "markdown",
   "metadata": {},
   "source": [
    "# Alexnet In Work (Code)"
   ]
  },
  {
   "cell_type": "code",
   "execution_count": 1,
   "metadata": {},
   "outputs": [
    {
     "name": "stderr",
     "output_type": "stream",
     "text": [
      "/Users/saurabh/Library/Python/3.9/lib/python/site-packages/urllib3/__init__.py:35: NotOpenSSLWarning: urllib3 v2 only supports OpenSSL 1.1.1+, currently the 'ssl' module is compiled with 'LibreSSL 2.8.3'. See: https://github.com/urllib3/urllib3/issues/3020\n",
      "  warnings.warn(\n",
      "/Users/saurabh/Library/Python/3.9/lib/python/site-packages/tqdm/auto.py:21: TqdmWarning: IProgress not found. Please update jupyter and ipywidgets. See https://ipywidgets.readthedocs.io/en/stable/user_install.html\n",
      "  from .autonotebook import tqdm as notebook_tqdm\n",
      "/Users/saurabh/Library/Python/3.9/lib/python/site-packages/datasets/load.py:2524: FutureWarning: 'ignore_verifications' was deprecated in favor of 'verification_mode' in version 2.9.1 and will be removed in 3.0.0.\n",
      "You can remove this warning by passing 'verification_mode=no_checks' instead.\n",
      "  warnings.warn(\n"
     ]
    }
   ],
   "source": [
    "# import dataset from HuggingFace\n",
    "from datasets import load_dataset\n",
    "\n",
    "imagenet = load_dataset(\n",
    "    'Maysee/tiny-imagenet',\n",
    "    split='valid',\n",
    "    ignore_verifications=True  # set to True if seeing splits Error\n",
    ")\n",
    "imagenet"
   ]
  },
  {
   "cell_type": "code",
   "execution_count": 8,
   "metadata": {},
   "outputs": [
    {
     "data": {
      "text/plain": [
       "{'image': <PIL.JpegImagePlugin.JpegImageFile image mode=RGB size=64x64>,\n",
       " 'label': 0}"
      ]
     },
     "execution_count": 8,
     "metadata": {},
     "output_type": "execute_result"
    }
   ],
   "source": [
    "imagenet[0]  # single record"
   ]
  },
  {
   "cell_type": "code",
   "execution_count": 9,
   "metadata": {},
   "outputs": [
    {
     "data": {
      "text/plain": [
       "PIL.JpegImagePlugin.JpegImageFile"
      ]
     },
     "execution_count": 9,
     "metadata": {},
     "output_type": "execute_result"
    }
   ],
   "source": [
    "# check image type\n",
    "type(imagenet[0]['image'])"
   ]
  },
  {
   "cell_type": "code",
   "execution_count": 10,
   "metadata": {},
   "outputs": [
    {
     "data": {
      "image/jpeg": "[encoded data removed]",
      "image/png": "[encoded data removed]",
      "text/plain": [
       "<PIL.JpegImagePlugin.JpegImageFile image mode=RGB size=64x64>"
      ]
     },
     "execution_count": 10,
     "metadata": {},
     "output_type": "execute_result"
    }
   ],
   "source": [
    "# view PIL images like so (in notebooks):\n",
    "imagenet[0]['image']"
   ]
  },
  {
   "cell_type": "code",
   "execution_count": 11,
   "metadata": {},
   "outputs": [
    {
     "data": {
      "text/plain": [
       "'RGB'"
      ]
     },
     "execution_count": 11,
     "metadata": {},
     "output_type": "execute_result"
    }
   ],
   "source": [
    "# check for RGB, this image is okay\n",
    "imagenet[0]['image'].mode"
   ]
  },
  {
   "cell_type": "code",
   "execution_count": 12,
   "metadata": {},
   "outputs": [
    {
     "data": {
      "text/plain": [
       "'L'"
      ]
     },
     "execution_count": 12,
     "metadata": {},
     "output_type": "execute_result"
    }
   ],
   "source": [
    "# 'L' is grayscale, and must be converted to RGB\n",
    "imagenet[201]['image'].mode"
   ]
  },
  {
   "cell_type": "code",
   "execution_count": 13,
   "metadata": {},
   "outputs": [
    {
     "data": {
      "image/jpeg": "[encoded data removed]",
      "image/png": "[encoded data removed]",
      "text/plain": [
       "<PIL.JpegImagePlugin.JpegImageFile image mode=L size=64x64>"
      ]
     },
     "execution_count": 13,
     "metadata": {},
     "output_type": "execute_result"
    }
   ],
   "source": [
    "imagenet[201]['image']  # we can see it is grayscale"
   ]
  },
  {
   "cell_type": "code",
   "execution_count": 14,
   "metadata": {},
   "outputs": [
    {
     "data": {
      "image/jpeg": "[encoded data removed]",
      "image/png": "[encoded data removed]",
      "text/plain": [
       "<PIL.Image.Image image mode=RGB size=64x64>"
      ]
     },
     "execution_count": 14,
     "metadata": {},
     "output_type": "execute_result"
    }
   ],
   "source": [
    "img = imagenet[201]['image'].convert('RGB')\n",
    "img  # it will still be shown as grayscale"
   ]
  },
  {
   "cell_type": "code",
   "execution_count": 15,
   "metadata": {},
   "outputs": [
    {
     "data": {
      "image/jpeg": "[encoded data removed]",
      "image/png": "[encoded data removed]",
      "text/plain": [
       "<PIL.Image.Image image mode=RGB size=224x224>"
      ]
     },
     "execution_count": 15,
     "metadata": {},
     "output_type": "execute_result"
    }
   ],
   "source": [
    "from torchvision import transforms\n",
    "\n",
    "# resize and crop to 224x224\n",
    "preprocess = transforms.Compose([\n",
    "    transforms.Resize(256),\n",
    "    transforms.CenterCrop(224)\n",
    "])\n",
    "\n",
    "new_img = preprocess(imagenet[0]['image'])\n",
    "new_img"
   ]
  },
  {
   "cell_type": "code",
   "execution_count": 16,
   "metadata": {},
   "outputs": [],
   "source": [
    "# resize and crop to 224x224\n",
    "preprocess = transforms.Compose([\n",
    "    transforms.ToTensor(),  # convert from PIL image to tensor before norm to avoid error\n",
    "    transforms.Normalize(mean=[0.485, 0.456, 0.406], std=[0.229, 0.224, 0.225])\n",
    "])\n",
    "\n",
    "# final result is normalized tensor of shape (3, 224, 224)\n",
    "new_img = preprocess(new_img)"
   ]
  },
  {
   "cell_type": "code",
   "execution_count": 17,
   "metadata": {},
   "outputs": [
    {
     "name": "stderr",
     "output_type": "stream",
     "text": [
      "100%|██████████| 50/50 [00:00<00:00, 577.05it/s]\n"
     ]
    },
    {
     "data": {
      "text/plain": [
       "torch.Size([50, 3, 224, 224])"
      ]
     },
     "execution_count": 17,
     "metadata": {},
     "output_type": "execute_result"
    }
   ],
   "source": [
    "from tqdm.auto import tqdm\n",
    "import torch\n",
    "\n",
    "# define preprocessing pipeline\n",
    "preprocess = transforms.Compose([\n",
    "    transforms.Resize(256),\n",
    "    transforms.CenterCrop(224),\n",
    "    transforms.ToTensor(),\n",
    "    transforms.Normalize(mean=[0.485, 0.456, 0.406], std=[0.229, 0.224, 0.225]),\n",
    "])\n",
    "\n",
    "inputs = []\n",
    "\n",
    "for image in tqdm(imagenet[:50]['image']):\n",
    "    # convert from grayscale to RBG\n",
    "    if image.mode != 'RGB':\n",
    "        image = image.convert(\"RGB\")\n",
    "    # prepocessing\n",
    "    input_tensor = preprocess(image)\n",
    "    inputs.append(input_tensor)\n",
    "\n",
    "# convert batch list to tensor (as expected by the model)\n",
    "inputs = torch.stack(inputs)\n",
    "inputs.size()"
   ]
  },
  {
   "cell_type": "code",
   "execution_count": 18,
   "metadata": {},
   "outputs": [
    {
     "name": "stderr",
     "output_type": "stream",
     "text": [
      "Downloading: \"https://github.com/pytorch/vision/zipball/v0.10.0\" to /Users/saurabh/.cache/torch/hub/v0.10.0.zip\n",
      "/Users/saurabh/Library/Python/3.9/lib/python/site-packages/torchvision/models/_utils.py:208: UserWarning: The parameter 'pretrained' is deprecated since 0.13 and may be removed in the future, please use 'weights' instead.\n",
      "  warnings.warn(\n",
      "/Users/saurabh/Library/Python/3.9/lib/python/site-packages/torchvision/models/_utils.py:223: UserWarning: Arguments other than a weight enum or `None` for 'weights' are deprecated since 0.13 and may be removed in the future. The current behavior is equivalent to passing `weights=AlexNet_Weights.IMAGENET1K_V1`. You can also use `weights=AlexNet_Weights.DEFAULT` to get the most up-to-date weights.\n",
      "  warnings.warn(msg)\n",
      "Downloading: \"https://download.pytorch.org/models/alexnet-owt-7be5be79.pth\" to /Users/saurabh/.cache/torch/hub/checkpoints/alexnet-owt-7be5be79.pth\n",
      "100%|██████████| 233M/233M [00:53<00:00, 4.57MB/s] \n"
     ]
    },
    {
     "data": {
      "text/plain": [
       "AlexNet(\n",
       "  (features): Sequential(\n",
       "    (0): Conv2d(3, 64, kernel_size=(11, 11), stride=(4, 4), padding=(2, 2))\n",
       "    (1): ReLU(inplace=True)\n",
       "    (2): MaxPool2d(kernel_size=3, stride=2, padding=0, dilation=1, ceil_mode=False)\n",
       "    (3): Conv2d(64, 192, kernel_size=(5, 5), stride=(1, 1), padding=(2, 2))\n",
       "    (4): ReLU(inplace=True)\n",
       "    (5): MaxPool2d(kernel_size=3, stride=2, padding=0, dilation=1, ceil_mode=False)\n",
       "    (6): Conv2d(192, 384, kernel_size=(3, 3), stride=(1, 1), padding=(1, 1))\n",
       "    (7): ReLU(inplace=True)\n",
       "    (8): Conv2d(384, 256, kernel_size=(3, 3), stride=(1, 1), padding=(1, 1))\n",
       "    (9): ReLU(inplace=True)\n",
       "    (10): Conv2d(256, 256, kernel_size=(3, 3), stride=(1, 1), padding=(1, 1))\n",
       "    (11): ReLU(inplace=True)\n",
       "    (12): MaxPool2d(kernel_size=3, stride=2, padding=0, dilation=1, ceil_mode=False)\n",
       "  )\n",
       "  (avgpool): AdaptiveAvgPool2d(output_size=(6, 6))\n",
       "  (classifier): Sequential(\n",
       "    (0): Dropout(p=0.5, inplace=False)\n",
       "    (1): Linear(in_features=9216, out_features=4096, bias=True)\n",
       "    (2): ReLU(inplace=True)\n",
       "    (3): Dropout(p=0.5, inplace=False)\n",
       "    (4): Linear(in_features=4096, out_features=4096, bias=True)\n",
       "    (5): ReLU(inplace=True)\n",
       "    (6): Linear(in_features=4096, out_features=1000, bias=True)\n",
       "  )\n",
       ")"
      ]
     },
     "execution_count": 18,
     "metadata": {},
     "output_type": "execute_result"
    }
   ],
   "source": [
    "import torch\n",
    "\n",
    "# load pretrained alexnet from pytorch hub\n",
    "model = torch.hub.load('pytorch/vision:v0.10.0', 'alexnet', pretrained=True)\n",
    "model.eval()  # set model to evaluation mode (for inference)"
   ]
  },
  {
   "cell_type": "code",
   "execution_count": 19,
   "metadata": {},
   "outputs": [],
   "source": [
    "# move to device if available\n",
    "device = torch.device(\n",
    "    'cuda' if torch.cuda.is_available() else (\n",
    "        'mps' if torch.backends.mps.is_available() else 'cpu'\n",
    "    )\n",
    ")"
   ]
  },
  {
   "cell_type": "code",
   "execution_count": 20,
   "metadata": {},
   "outputs": [
    {
     "name": "stdout",
     "output_type": "stream",
     "text": [
      "torch.Size([50, 1000])\n"
     ]
    },
    {
     "data": {
      "text/plain": [
       "tensor([[ 8.1108, 14.6574, -0.1506,  ...,  5.8944,  1.3372, -5.4662],\n",
       "        [ 2.7997,  9.3263,  2.4853,  ..., -1.7907, -0.1574, -1.7162],\n",
       "        [ 7.3128, 16.8721,  1.3526,  ...,  3.2606,  0.8557, -3.7938],\n",
       "        ...,\n",
       "        [ 3.5170, 10.5402, -3.2779,  ...,  1.9780,  0.7336, -1.1573],\n",
       "        [ 4.2826, 13.0668,  1.2182,  ..., -1.0022,  2.9048, -5.2177],\n",
       "        [ 4.0053,  8.5588, -2.4859,  ...,  2.4926,  2.2112, -2.7797]],\n",
       "       device='mps:0')"
      ]
     },
     "execution_count": 20,
     "metadata": {},
     "output_type": "execute_result"
    }
   ],
   "source": [
    "# move inputs and model to device\n",
    "inputs = inputs.to(device)\n",
    "model.to(device)\n",
    "\n",
    "# run the model\n",
    "with torch.no_grad():\n",
    "    output = model(inputs).detach()\n",
    "print(output.shape)\n",
    "output"
   ]
  },
  {
   "cell_type": "code",
   "execution_count": 21,
   "metadata": {},
   "outputs": [
    {
     "name": "stdout",
     "output_type": "stream",
     "text": [
      "(50,)\n"
     ]
    },
    {
     "data": {
      "text/plain": [
       "array([  1,   1,   1,   1, 392,   1, 149,   1, 392,   1,   1,   1, 782,\n",
       "         1, 392,  73, 392,   1,  29, 973, 392,  73, 995,   1,   1,   1,\n",
       "         1, 206,   1,   1,   1,   1,   1,   1,   1,   1, 335,   1,   1,\n",
       "         1,   1,   1,   1,   1,   1,   1,   1,   1,   1,   1])"
      ]
     },
     "execution_count": 21,
     "metadata": {},
     "output_type": "execute_result"
    }
   ],
   "source": [
    "# prediction\n",
    "preds = torch.argmax(output, dim=1).cpu().numpy()\n",
    "print(preds.shape)\n",
    "preds"
   ]
  },
  {
   "cell_type": "code",
   "execution_count": 23,
   "metadata": {},
   "outputs": [],
   "source": [
    "import requests\n",
    "\n",
    "res = requests.get(\"https://raw.githubusercontent.com/pytorch/hub/master/imagenet_classes.txt\")"
   ]
  },
  {
   "cell_type": "code",
   "execution_count": 24,
   "metadata": {},
   "outputs": [
    {
     "name": "stdout",
     "output_type": "stream",
     "text": [
      "1000\n",
      "goldfish\n"
     ]
    }
   ],
   "source": [
    "pred_labels = res.text.split('\\n')\n",
    "print(f\"{len(pred_labels)}\\n{pred_labels[1]}\")"
   ]
  },
  {
   "cell_type": "code",
   "execution_count": 25,
   "metadata": {},
   "outputs": [
    {
     "data": {
      "text/plain": [
       "0.72"
      ]
     },
     "execution_count": 25,
     "metadata": {},
     "output_type": "execute_result"
    }
   ],
   "source": [
    "sum(preds == 1) / len(preds)"
   ]
  }
 ],
 "metadata": {
  "kernelspec": {
   "display_name": "Python 3 (ipykernel)",
   "language": "python",
   "name": "python3"
  },
  "language_info": {
   "codemirror_mode": {
    "name": "ipython",
    "version": 3
   },
   "file_extension": ".py",
   "mimetype": "text/x-python",
   "name": "python",
   "nbconvert_exporter": "python",
   "pygments_lexer": "ipython3",
   "version": "3.9.6"
  }
 },
 "nbformat": 4,
 "nbformat_minor": 4
}
