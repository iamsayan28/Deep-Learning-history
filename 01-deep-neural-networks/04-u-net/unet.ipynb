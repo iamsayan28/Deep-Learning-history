{
 "cells": [
  {
   "cell_type": "markdown",
   "metadata": {},
   "source": [
    "# Resource \n",
    "\n",
    "1. Unet Video [Link](https://youtu.be/IHq1t7NxS8k?si=VsVqQs3HBcen3rWE)\n",
    "2. Paper [Link](https://arxiv.org/abs/1505.04597)"
   ]
  },
  {
   "cell_type": "markdown",
   "metadata": {},
   "source": [
    "# U-net\n",
    "\n",
    "- Devloped for the mdeical image segmentations.\n",
    "\n",
    "- With very less datasets.\n",
    "- by using lots data augmentation tech they increased there datasets.\n",
    "---\n",
    "![UNET](../../images/unet.png)\n",
    "\n",
    "---\n",
    "\n",
    "## three main thing \n",
    "- 1. Double conv \n",
    "- 2. Down sampling \n",
    "- 3. Up sampling \n",
    "\n"
   ]
  },
  {
   "cell_type": "code",
   "execution_count": null,
   "metadata": {},
   "outputs": [],
   "source": []
  }
 ],
 "metadata": {
  "language_info": {
   "name": "python"
  }
 },
 "nbformat": 4,
 "nbformat_minor": 2
}
