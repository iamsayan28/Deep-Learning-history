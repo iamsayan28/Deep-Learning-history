{
 "cells": [
  {
   "cell_type": "markdown",
   "metadata": {},
   "source": [
    "# Building The CNN And Learning Almost Everything About It."
   ]
  },
  {
   "cell_type": "markdown",
   "metadata": {},
   "source": [
    "#### 1. Why CNN and Not MLP For Images ?\n",
    "#### 2. How CNN works ? - > Layers : Convolutional, Pooling and Fully Connected Layers "
   ]
  },
  {
   "cell_type": "markdown",
   "metadata": {},
   "source": [
    "![img](../../images/cnn.png)"
   ]
  },
  {
   "cell_type": "markdown",
   "metadata": {},
   "source": [
    "### 1. Why We Use The CNN And Not MLP For Images ?\n",
    "\n",
    "CNN Handles the Image datasets better than the MLP \n",
    "and there are two main reason to it : ***1. Sparse Connectivety and 2. Parameter Shairng***\n"
   ]
  },
  {
   "cell_type": "markdown",
   "metadata": {},
   "source": [
    "`Sparse Connectivity :` Sparse connectivity point towards that each neuron in a convolutional layer of a CNN is only connected to a small, localized region of the input image, rather than being fully connected to the entire input. This localized region is known as the receptive field.\n",
    "\n",
    "Local Receptive Fields: In CNNs, each convolutional kernels operates over a small patch of the input image. This means that neurons in the convolutional layer only focus on small regions of the input, making the network more efficient by reducing the number of parameters and computations.\n",
    "\n",
    "`Parameter Sharing:` The same convolutional filter is applied to entire input image. This parameter sharing allows CNNs to capture features like edges, textures, and patterns regardless of their position in the image.\n",
    "\n",
    "#### Why not MLP ?\n",
    "\n",
    "`High Number of Parameters:` For an image of size 32x32 with 3 color channels, a single neuron in the first hidden layer of an MLP would have ***32 × 32 × 3 = 3072*** connections. With a large number of neurons, this quickly becomes impractical.\n",
    "\n",
    "`Lack of Locality:` MLPs treat all input pixels equally without considering the spatial structure of the image. This lack of locality makes it harder for MLPs to capture local patterns and structures that are important for image recognition tasks."
   ]
  },
  {
   "cell_type": "markdown",
   "metadata": {},
   "source": [
    "### 2.  How CNN works ? - > Layers : Convolutional, Pooling and Fully Connected Layers \n",
    "\n",
    "The CNN model consists primarily of a stack of layers: convolutional and pooling layers, followed by fully connected layers (MLP). Depending on the specific problem, the output layer is chosen generally either sigmoid or softmax.\n",
    "\n",
    "#### Step 1: Convolutional Layer\n",
    "\n",
    "![img](../../images/convolution-2.gif)\n",
    "\n",
    "The image first passes through the convolutional layer, which uses a kernel (filled with weights) that slides over the entire image as shown above. This process extracts features such as edges, textures, and patterns.\n",
    "\n",
    "##### ***2D Convolution Formula :***\n",
    "\n",
    "The 2D convolution formula can be expressed as:\n",
    "\n",
    "$$\n",
    " Y = X * W -> Y[i, j] = \\sum_m \\sum_n X[i - m, j - n] W[m, n]\n",
    "$$\n",
    "\n",
    "where:\n",
    "- \\( X \\) is the input image matrix.\n",
    "- \\( W \\) is the kernel (filter) matrix.\n",
    "- \\( y \\) is the output matrix.\n",
    "- \\( i \\) and \\( j \\) are the indices of the output matrix.\n",
    "- \\( m \\) and \\( n \\) are the indices of the kernel matrix.\n",
    "\n",
    "\n",
    "\n",
    "#### Step 2: Pooling Layer\n",
    "\n",
    "![img](../../images/maxpool.gif)\n",
    "\n",
    "After the convolutional layer, the output is passed to the pooling layer. Pooling reduces the spatial dimensions of the feature maps, which helps to decrease the computational load and the number of parameters in the network. It also makes the network invariant to small translations of the input image. There are two common types of pooling: ***MaxPooling***, which selects the maximum value from each patch of the feature map, and ***AveragePooling**, which computes the average value of each patch. This layer helps in summarizing the presence of features in patches of the feature map, rather than their precise location.\n",
    "\n",
    "#### Step 3: Fully Connected Layer\n",
    "\n",
    "The output from the stack of convolutional and pooling layers is then flattened into a one-dimensional vector and passed to the fully connected layer (MLP). This layer performs high-level reasoning by combining all the features detected in previous layers. Each neuron in a fully connected layer is connected to every neuron in the previous layer, allowing the network to learn complex representations and relationships between features.\n",
    "\n",
    "#### Step 4: Output Layer\n",
    "\n",
    "Finally, the output from the fully connected layer is passed to the output layer. The type of output layer depends on the nature of the problem. For a binary classification problem, a sigmoid activation function is often used, which outputs a probability between 0 and 1. For multiclass classification problems, a softmax activation function is typically used, which outputs a probability distribution over all classes, allowing the network to predict the class with the highest probability.\n",
    "This layered approach allows CNNs to effectively process and classify images by learning and focusing on important features."
   ]
  },
  {
   "cell_type": "markdown",
   "metadata": {},
   "source": []
  },
  {
   "cell_type": "code",
   "execution_count": null,
   "metadata": {},
   "outputs": [],
   "source": []
  },
  {
   "cell_type": "code",
   "execution_count": null,
   "metadata": {},
   "outputs": [],
   "source": []
  },
  {
   "cell_type": "code",
   "execution_count": null,
   "metadata": {},
   "outputs": [],
   "source": []
  },
  {
   "cell_type": "code",
   "execution_count": null,
   "metadata": {},
   "outputs": [],
   "source": []
  },
  {
   "cell_type": "code",
   "execution_count": null,
   "metadata": {},
   "outputs": [],
   "source": []
  },
  {
   "cell_type": "code",
   "execution_count": null,
   "metadata": {},
   "outputs": [],
   "source": []
  },
  {
   "cell_type": "code",
   "execution_count": null,
   "metadata": {},
   "outputs": [],
   "source": []
  }
 ],
 "metadata": {
  "kernelspec": {
   "display_name": "Python 3",
   "language": "python",
   "name": "python3"
  },
  "language_info": {
   "codemirror_mode": {
    "name": "ipython",
    "version": 3
   },
   "file_extension": ".py",
   "mimetype": "text/x-python",
   "name": "python",
   "nbconvert_exporter": "python",
   "pygments_lexer": "ipython3",
   "version": "3.12.2"
  }
 },
 "nbformat": 4,
 "nbformat_minor": 2
}
