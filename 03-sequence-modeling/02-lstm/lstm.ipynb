{
 "cells": [
  {
   "cell_type": "markdown",
   "metadata": {},
   "source": [
    "# LSTM (Long Short Term Memory)"
   ]
  },
  {
   "cell_type": "markdown",
   "metadata": {},
   "source": [
    "### introduction\n",
    "\n",
    "- this is the updated version of rnn\n",
    "\n",
    "- it solve the gradient vashing and gradient exploding problems.\n",
    "\n",
    "- it introduces gating mechanisms (input gate, forget gate, output gate) to control the flow of information\n",
    "- these gates allow the network to selectively remember or forget information over long sequences\n",
    "- LSTMs can capture long-term dependencies more effectively than traditional RNNs\n",
    "- they are widely used in various sequence modeling tasks like language modeling, machine translation, and speech recognition\n",
    "\n",
    "### how they work internally ?\n",
    " \n",
    "1. Input Gate: Determines which new information should be added to the cell state\n",
    "   - Uses sigmoid activation to output values between 0 and 1\n",
    "  - Decides which values to update\n",
    "\n",
    "2. Forget Gate: Decides what information to discard from the cell state\n",
    "    - Also uses sigmoid activation\n",
    "    - Outputs values close to 0 (forget) or 1 (keep)\n",
    "\n",
    "3. Cell State Update: Combines the forget gate and input gate outputs\n",
    "   - Multiplies the old cell state by the forget gate output\n",
    "   - Adds the input gate output multiplied by a candidate cell state\n",
    "\n",
    "4. Output Gate: Determines what information from the cell state should be output\n",
    "   - Uses sigmoid activation\n",
    "   - Filters the updated cell state to produce the final output\n",
    "\n",
    "5. Final Output: Combines the output gate with the updated cell state\n",
    "   - The cell state is passed through a tanh function and multiplied by the output gate\n",
    "\n",
    "This architecture allows LSTMs to maintain relevant information over long sequences,\n",
    "selectively update or forget information, and produce relevant outputs at each time step.\n",
    "\n",
    "\n"
   ]
  },
  {
   "cell_type": "code",
   "execution_count": null,
   "metadata": {},
   "outputs": [],
   "source": []
  }
 ],
 "metadata": {
  "language_info": {
   "name": "python"
  }
 },
 "nbformat": 4,
 "nbformat_minor": 2
}
