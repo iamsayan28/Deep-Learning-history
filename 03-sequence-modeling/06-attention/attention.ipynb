{
 "cells": [
  {
   "cell_type": "markdown",
   "metadata": {},
   "source": [
    "# Attention "
   ]
  },
  {
   "cell_type": "markdown",
   "metadata": {},
   "source": [
    "### I have build the image-captioning project to uderstand attnetion in detail you check that out [here](https://github.com/saurabhaloneai/image-cap.git) (also written a small blog)\n",
    "\n",
    "- by \n"
   ]
  },
  {
   "cell_type": "markdown",
   "metadata": {},
   "source": []
  }
 ],
 "metadata": {
  "language_info": {
   "name": "python"
  }
 },
 "nbformat": 4,
 "nbformat_minor": 2
}
