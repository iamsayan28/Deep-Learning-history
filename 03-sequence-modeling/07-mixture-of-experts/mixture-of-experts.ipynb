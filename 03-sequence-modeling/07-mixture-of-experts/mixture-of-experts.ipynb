{
 "cells": [
  {
   "cell_type": "markdown",
   "metadata": {},
   "source": [
    "# background \n",
    "\n",
    "the leanring capacity of nn is absorb by the number of partameters it has. \n",
    "\n",
    "there lots of new models like mistral uses Mixture-of-Experts layer (MoE).\n",
    "\n",
    "and would recoommend to read paper in just one pass but shold really work thorugh this [blog](https://huggingface.co/blog/moe) by huggingface.\n",
    "\n",
    "will be covering the short summary from that blog here.\n",
    "\n",
    "# \n",
    "\n",
    "\n",
    "# my notes \n",
    "\n",
    "\n",
    "\n",
    "# conlusion \n",
    "\n"
   ]
  }
 ],
 "metadata": {
  "language_info": {
   "name": "python"
  }
 },
 "nbformat": 4,
 "nbformat_minor": 2
}
