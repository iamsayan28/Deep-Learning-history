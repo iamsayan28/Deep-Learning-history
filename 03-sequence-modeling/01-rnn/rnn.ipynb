{
 "cells": [
  {
   "cell_type": "markdown",
   "metadata": {},
   "source": [
    "# RNN (work in progress)\n",
    "\n",
    "\n",
    "> **why we cannot used ANN or CNN for sequential data ?**\n",
    "\n",
    "- the text data is not of same size.(each example can have the different lenght).\n",
    "\n",
    "- and cnn or ann canot deal with the input of diff-diff lenght.\n",
    "\n",
    "- what if convert the every smaple into same size but the amount of unsessary data that we gonna create is crazy not computer efficient at all.\n",
    "\n",
    "- and also at the time of inferece if we input have diff length then the zero padding is also not gonna work.(i.e larger than out highest our training sample lenght)\n",
    "\n",
    "- and one thing in ANN or CNN we pass the data at a same time this can cuase the big probelm. \n",
    "\n",
    "- cuase the meaining of sentence cann be change or look liek randome noise caues in text the most imp thing is the squence of the words.\n",
    "\n",
    "- by design the ann cannot remember anything due it we lose the semantic meaning.\n",
    "\n",
    "> **How RNN solve this problem ?** \n",
    "\n",
    "- rnn can handle the sequential data.(mostly text data).\n",
    "\n",
    "- rnn has this feature due to it can remember the previous features.\n",
    "\n",
    "> **RNN-Architecure**\n",
    "\n",
    "- "
   ]
  },
  {
   "cell_type": "code",
   "execution_count": null,
   "metadata": {},
   "outputs": [],
   "source": []
  },
  {
   "cell_type": "code",
   "execution_count": null,
   "metadata": {},
   "outputs": [],
   "source": []
  },
  {
   "cell_type": "code",
   "execution_count": null,
   "metadata": {},
   "outputs": [],
   "source": []
  }
 ],
 "metadata": {
  "kernelspec": {
   "display_name": "Python 3",
   "language": "python",
   "name": "python3"
  },
  "language_info": {
   "codemirror_mode": {
    "name": "ipython",
    "version": 3
   },
   "file_extension": ".py",
   "mimetype": "text/x-python",
   "name": "python",
   "nbconvert_exporter": "python",
   "pygments_lexer": "ipython3",
   "version": "3.9.6"
  }
 },
 "nbformat": 4,
 "nbformat_minor": 2
}
