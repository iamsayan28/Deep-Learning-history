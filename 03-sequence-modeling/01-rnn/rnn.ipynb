{
 "cells": [
  {
   "cell_type": "markdown",
   "metadata": {},
   "source": [
    "# RNN \n",
    "\n",
    "- we used rnn for sequential data.(mostly text data)\n",
    "\n",
    "> **why we cannot used ANN or CNN for sequential data ?**\n",
    "\n",
    "- the text data is not of same size.(each example can have the different lenght).\n",
    "\n",
    "- and cnn or ann canot deal with the input of diff-diff lenght.\n",
    "\n",
    "- what if convert the every smaple into same size but the amount of unsessary data that we gonna create is crazy not computer efficient at all.\n",
    "\n",
    "- and also at the time of inferece if we input have diff length then the zero padding is also not gonna work.\n",
    "\n",
    "- and one thing in ANN or CNN we pass the data at a same time this can cuase the big probelm. \n",
    "\n",
    "- cuase the meaining of sentence cann be change or look liek randome noise caues in text the most imp thing is the squence of the words.\n",
    "\n",
    "- by design the ann cannot remember anything due it we lose the semantic meaning.\n",
    "\n"
   ]
  },
  {
   "cell_type": "code",
   "execution_count": null,
   "metadata": {},
   "outputs": [],
   "source": []
  }
 ],
 "metadata": {
  "language_info": {
   "name": "python"
  }
 },
 "nbformat": 4,
 "nbformat_minor": 2
}
