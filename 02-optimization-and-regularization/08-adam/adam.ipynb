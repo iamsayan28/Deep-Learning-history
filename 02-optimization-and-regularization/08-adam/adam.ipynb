{
 "cells": [
  {
   "cell_type": "markdown",
   "metadata": {},
   "source": [
    "# Adam !!! (working on this)"
   ]
  },
  {
   "cell_type": "markdown",
   "metadata": {},
   "source": [
    "> **before jumping to ***adam*** lets first go into some previous optimiezers**\n",
    "\n",
    "- lest into what is loss fucntion ? [Link_to_loss](02-optimization-and-regularization/08-adam/loss.ipynb)\n",
    "- neural network is optimization problem where you want to reduce the loss.\n",
    "- role of optimizer to helps in reducing the \n",
    "\n",
    "> **Gradient Descent**\n",
    "\n",
    "\n",
    "> **Stohastic gradient descent**\n",
    "\n",
    "> **Momentum** \n",
    "\n",
    "> **Adam**\n"
   ]
  },
  {
   "cell_type": "markdown",
   "metadata": {},
   "source": []
  }
 ],
 "metadata": {
  "kernelspec": {
   "display_name": "Python 3",
   "language": "python",
   "name": "python3"
  },
  "language_info": {
   "codemirror_mode": {
    "name": "ipython",
    "version": 3
   },
   "file_extension": ".py",
   "mimetype": "text/x-python",
   "name": "python",
   "nbconvert_exporter": "python",
   "pygments_lexer": "ipython3",
   "version": "3.9.6"
  }
 },
 "nbformat": 4,
 "nbformat_minor": 2
}
