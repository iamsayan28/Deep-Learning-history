{
 "cells": [
  {
   "cell_type": "markdown",
   "metadata": {},
   "source": [
    "# Adam !!! (working on this)"
   ]
  },
  {
   "cell_type": "markdown",
   "metadata": {},
   "source": [
    "\n",
    "## what is an optimizer?\n",
    "\n",
    "- neural network training is an optimization problem where you wanna minimize the loss function.\n",
    "\n",
    "- the goal is to shrink the gap between predicted and actual values by finding optimal parameter values through iterative updates.\n",
    "- gradient descent is the go-to method for this optimization, but it's got some quirks.\n",
    "- classic gradient descent, stochastic gradient descent (sgd), mini-batch gd, and other optimizers like momentum, adagrad, and rmsprop all have their own issues.\n",
    "- that's why adam is often the default choice - it deals with many of these problems.\n",
    "\n",
    "## problems with gradient descent and its variants\n",
    "\n",
    "- the core of gradient descent is the update rule:\n",
    "  θ = θ - α * ∇J(θ)\n",
    "  where:\n",
    "  θ: parameter (weight or bias)\n",
    "  α: learning rate\n",
    "  ∇J(θ): gradient of the cost function\n",
    "\n",
    "- the learning rate α is crucial - it's like the step size in our optimization journey.\n",
    "\n",
    "- pick α too big, and you might overshoot the minimum, maybe even failing to converge.\n",
    "- pick α too small, and you're in for a long, slow crawl to the minimum.\n",
    "\n",
    "- learning rate schedulers try to fix this by changing α during training, but they need preset values and don't adapt to the data.\n",
    "\n",
    "- batch gradient descent might get stuck in local minima, missing the global minimum altogether.\n",
    "- sgd's random nature gives it a shot at escaping local minima, but it's not guaranteed.\n",
    "\n",
    "- another headache: all parameters get the same learning rate, which isn't ideal.\n",
    "\n",
    "- saddle points - spots where the gradient is zero in all directions, bringing updates to a standstill.\n",
    "\n",
    "## advanced optimizers that tackle these issues\n",
    "\n",
    "1. momentum \n",
    "2. adagrad\n",
    "3. nag (nesterov accelerated gradient)\n",
    "4. rmsprop\n",
    "5. adam\n",
    "\n",
    "### momentum \n",
    "\n",
    "### adagrad\n",
    "\n",
    "\n",
    "### nag (nesterov accelerated gradient)\n",
    "\n",
    "\n",
    "### rmsprop\n",
    "\n",
    "\n",
    "\n",
    "### adam\n",
    "\n"
   ]
  }
 ],
 "metadata": {
  "kernelspec": {
   "display_name": "Python 3",
   "language": "python",
   "name": "python3"
  },
  "language_info": {
   "codemirror_mode": {
    "name": "ipython",
    "version": 3
   },
   "file_extension": ".py",
   "mimetype": "text/x-python",
   "name": "python",
   "nbconvert_exporter": "python",
   "pygments_lexer": "ipython3",
   "version": "3.9.6"
  }
 },
 "nbformat": 4,
 "nbformat_minor": 2
}
