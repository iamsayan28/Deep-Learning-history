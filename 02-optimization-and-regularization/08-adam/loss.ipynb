{
 "cells": [
  {
   "cell_type": "markdown",
   "metadata": {},
   "source": [
    "### Loss Fusntion (working on this)\n",
    "\n",
    "> **What is a loss fucntion ?**\n",
    "\n",
    "- as we know in order to train the "
   ]
  },
  {
   "cell_type": "code",
   "execution_count": null,
   "metadata": {},
   "outputs": [],
   "source": []
  }
 ],
 "metadata": {
  "language_info": {
   "name": "python"
  }
 },
 "nbformat": 4,
 "nbformat_minor": 2
}
