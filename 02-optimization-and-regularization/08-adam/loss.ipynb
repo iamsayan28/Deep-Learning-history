{
 "cells": [
  {
   "cell_type": "markdown",
   "metadata": {},
   "source": [
    "### Loss Fusntion (working on this)\n",
    "\n",
    "> **What is a loss fucntion ?**\n",
    "\n",
    "- as we know in order to train the \n",
    "\n",
    "> **Maximum Likelihood**\n",
    "\n",
    "\n",
    "\n",
    "> **Recipe for constructing loss function**\n",
    "\n",
    "\n",
    "> **Ex. 1: Univariate regression**\n",
    "\n",
    "\n",
    "> **Ex. 2: Binary Classification**\n",
    "\n",
    "> **Ex. 3: Multiclass classification**\n",
    "\n",
    "> **Cross Entropy Loss**"
   ]
  },
  {
   "cell_type": "code",
   "execution_count": null,
   "metadata": {},
   "outputs": [],
   "source": []
  }
 ],
 "metadata": {
  "language_info": {
   "name": "python"
  }
 },
 "nbformat": 4,
 "nbformat_minor": 2
}
